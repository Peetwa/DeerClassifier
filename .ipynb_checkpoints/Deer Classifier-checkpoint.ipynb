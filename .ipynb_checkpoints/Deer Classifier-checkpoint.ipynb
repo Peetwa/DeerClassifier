{
 "cells": [
  {
   "cell_type": "markdown",
   "metadata": {},
   "source": [
    "# Trail Cam Animal Classification"
   ]
  },
  {
   "cell_type": "markdown",
   "metadata": {},
   "source": [
    "## Imports"
   ]
  },
  {
   "cell_type": "code",
   "execution_count": 20,
   "metadata": {},
   "outputs": [],
   "source": [
    "import numpy as np\n",
    "import pandas as pd\n",
    "import os, sys\n",
    "import matplotlib.pyplot as plt\n",
    "import keras\n",
    "from sklearn.utils import shuffle\n",
    "from keras.models import Sequential\n",
    "from keras.layers import Dense, Activation, Dropout, Flatten, Conv2D, MaxPooling2D\n",
    "from keras.layers.normalization import BatchNormalization\n",
    "from keras.preprocessing.image import ImageDataGenerator\n",
    "from IPython.display import display\n",
    "from IPython.display import Image as _Imgdis\n",
    "from PIL import Image\n",
    "from scipy import ndimage\n",
    "from keras.preprocessing.image import ImageDataGenerator, array_to_img, img_to_array, load_img\n",
    "from keras.applications import VGG16"
   ]
  },
  {
   "cell_type": "code",
   "execution_count": 2,
   "metadata": {},
   "outputs": [],
   "source": [
    "deer_dir = \"./deer\"\n",
    "nodeer_dir = \"./nodeer\"\n",
    "target_size = 224\n",
    "img_list = []\n",
    "label = []\n",
    "\n",
    "for img_name in os.listdir(deer_dir):\n",
    "    img = load_img(deer_dir + \"/\" + img_name)\n",
    "    img = img.resize((target_size,target_size))\n",
    "    img_array = img_to_array(img)\n",
    "    img_list.append(img_array)\n",
    "    label.append(1)\n",
    "\n",
    "for img_name in os.listdir(nodeer_dir):\n",
    "    img = load_img(nodeer_dir + \"/\" + img_name)\n",
    "    img = img.resize((target_size,target_size))\n",
    "    img_array = img_to_array(img)\n",
    "    img_list.append(img_array)\n",
    "    label.append(0)"
   ]
  },
  {
   "cell_type": "code",
   "execution_count": 3,
   "metadata": {},
   "outputs": [],
   "source": [
    "img_array, img_labels = shuffle(img_list,label)"
   ]
  },
  {
   "cell_type": "code",
   "execution_count": 33,
   "metadata": {},
   "outputs": [],
   "source": [
    "img_array = np.array(img_array)\n",
    "img_labels = np.array(img_labels)"
   ]
  },
  {
   "cell_type": "code",
   "execution_count": 5,
   "metadata": {},
   "outputs": [],
   "source": [
    "original_img_array = np.copy(img_array)"
   ]
  },
  {
   "cell_type": "code",
   "execution_count": 6,
   "metadata": {},
   "outputs": [],
   "source": [
    "img_array[:][:][:][0] -= np.mean(img_array[:][:][:][0], axis = 0)\n",
    "img_array[:][:][:][1] -= np.mean(img_array[:][:][:][1], axis = 0)\n",
    "img_array[:][:][:][2] -= np.mean(img_array[:][:][:][2], axis = 0)"
   ]
  },
  {
   "cell_type": "code",
   "execution_count": 7,
   "metadata": {},
   "outputs": [],
   "source": [
    "img_array[:][:][:][0] -= np.std(img_array[:][:][:][0], axis = 0)\n",
    "img_array[:][:][:][1] -= np.std(img_array[:][:][:][1], axis = 0)\n",
    "img_array[:][:][:][2] -= np.std(img_array[:][:][:][2], axis = 0)"
   ]
  },
  {
   "cell_type": "code",
   "execution_count": 8,
   "metadata": {},
   "outputs": [],
   "source": [
    "train_percent = .5\n",
    "train_count = int(train_percent*len(img_array))\n",
    "test_count = len(img_array) - train_count\n",
    "\n",
    "train_labels = img_labels[0:train_count]\n",
    "test_labels = img_labels[train_count:]\n",
    "\n",
    "train_images = img_array[0:train_count]\n",
    "test_images = img_array[train_count:]"
   ]
  },
  {
   "cell_type": "code",
   "execution_count": 9,
   "metadata": {},
   "outputs": [],
   "source": [
    "num_category = 2\n",
    "# convert class vectors to binary class matrices\n",
    "train_labels = keras.utils.to_categorical(train_labels, num_category)\n",
    "test_labels = keras.utils.to_categorical(test_labels, num_category)"
   ]
  },
  {
   "cell_type": "code",
   "execution_count": null,
   "metadata": {},
   "outputs": [],
   "source": []
  },
  {
   "cell_type": "code",
   "execution_count": null,
   "metadata": {},
   "outputs": [],
   "source": []
  },
  {
   "cell_type": "code",
   "execution_count": 27,
   "metadata": {},
   "outputs": [
    {
     "data": {
      "text/plain": [
       "(187, 224, 224, 3)"
      ]
     },
     "execution_count": 27,
     "metadata": {},
     "output_type": "execute_result"
    }
   ],
   "source": [
    "test_images.shape"
   ]
  },
  {
   "cell_type": "code",
   "execution_count": 34,
   "metadata": {},
   "outputs": [],
   "source": [
    "vgg_conv = VGG16(weights = 'imagenet',\n",
    "                include_top=True,\n",
    "                input_shape=(224,224,3))\n",
    "x = Dense(2, activation='sigmoid', name='predictions')(vgg_conv.layers[-2].output)\n",
    "my_model = keras.Model(inputs=vgg_conv.input, outputs=x)\n",
    "my_model.compile(loss=keras.losses.binary_crossentropy, optimizer=\"adam\", metrics=[\"accuracy\"])"
   ]
  },
  {
   "cell_type": "code",
   "execution_count": null,
   "metadata": {},
   "outputs": [
    {
     "name": "stdout",
     "output_type": "stream",
     "text": [
      "Train on 186 samples, validate on 187 samples\n",
      "Epoch 1/10\n",
      "186/186 [==============================] - 851s 5s/step - loss: 2.6721 - acc: 0.8333 - val_loss: 2.8289 - val_acc: 0.8235\n",
      "Epoch 2/10\n",
      " 88/186 [=============>................] - ETA: 6:14 - loss: 2.7324 - acc: 0.8295"
     ]
    }
   ],
   "source": [
    "#conv_model.fit(train_images,train_labels,epochs=5)\n",
    "batch_size = 1\n",
    "num_epoch = 10\n",
    "#model training\n",
    "model_log = my_model.fit(train_images,train_labels,\n",
    "          batch_size=batch_size,\n",
    "          epochs=num_epoch,\n",
    "          verbose=1,\n",
    "          validation_data=(test_images,test_labels))"
   ]
  },
  {
   "cell_type": "code",
   "execution_count": null,
   "metadata": {},
   "outputs": [],
   "source": []
  }
 ],
 "metadata": {
  "kernelspec": {
   "display_name": "Python 3",
   "language": "python",
   "name": "python3"
  },
  "language_info": {
   "codemirror_mode": {
    "name": "ipython",
    "version": 3
   },
   "file_extension": ".py",
   "mimetype": "text/x-python",
   "name": "python",
   "nbconvert_exporter": "python",
   "pygments_lexer": "ipython3",
   "version": "3.6.8"
  }
 },
 "nbformat": 4,
 "nbformat_minor": 2
}
